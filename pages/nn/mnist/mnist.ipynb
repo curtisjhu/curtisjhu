{
 "cells": [
  {
   "cell_type": "code",
   "execution_count": null,
   "metadata": {},
   "outputs": [],
   "source": [
    "import numpy as np\n",
    "import pandas as pd\n",
    "from matplotlib import pyplot as plt\n",
    "\n",
    "data = pd.read_csv(\"./train.csv\")\n"
   ]
  },
  {
   "cell_type": "markdown",
   "metadata": {},
   "source": [
    "### Forward Prop\n",
    "\n",
    "$x_1$\n",
    "\n",
    "$ x_2 = RELU( \\Theta_1 \\vec{x}_1 + \\vec{b}_1 ) $\n",
    "\n",
    "$ x_3 = SOFTMAX( \\Theta_2 \\vec{x}_2 + \\vec{b}_2 ) $"
   ]
  },
  {
   "cell_type": "code",
   "execution_count": null,
   "metadata": {},
   "outputs": [],
   "source": []
  },
  {
   "cell_type": "markdown",
   "metadata": {},
   "source": [
    "### Backprop\n",
    "\n",
    "$  $"
   ]
  }
 ],
 "metadata": {
  "language_info": {
   "name": "python"
  },
  "orig_nbformat": 4
 },
 "nbformat": 4,
 "nbformat_minor": 2
}
